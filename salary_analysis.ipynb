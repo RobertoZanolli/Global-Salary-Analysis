{
 "cells": [
  {
   "cell_type": "markdown",
   "id": "41cf6160-b219-445b-b208-2bcbc91b4df4",
   "metadata": {},
   "source": [
    "<h1> Global Salary Analysis </h1>\n",
    "\n",
    "In questo notebook si analizzerà il dataset 'salary_data.csv' scaricabile da kaggle: https://www.kaggle.com/datasets/zedataweaver/global-salary-data.\n",
    "\n",
    "L'obiettivo è identificare pattern significativi, come i paesi con i salari più alti e più bassi, le aree geografiche con maggiore disparità salariale e la distribuzione dei salari minimi e medi nei continenti.\n",
    "\n"
   ]
  },
  {
   "cell_type": "markdown",
   "id": "37361b68-0b5a-4a8a-910b-55bbfd933cf1",
   "metadata": {},
   "source": [
    "<h3> Import delle librerie </h3>"
   ]
  },
  {
   "cell_type": "code",
   "execution_count": null,
   "id": "5a5d2084-1289-4101-9519-8445e2b0e46a",
   "metadata": {},
   "outputs": [],
   "source": [
    "import pandas as pd\n",
    "import matplotlib.pyplot as plt\n",
    "import numpy as np\n"
   ]
  },
  {
   "cell_type": "markdown",
   "id": "e15d6e23-96b8-4389-bd6e-c1b8cdadbf99",
   "metadata": {},
   "source": [
    "<h3> Creazione del dataframe </h3>\n",
    "Viene importato il dataset in formato csv e poi viene caricato in un dataframe pandas."
   ]
  },
  {
   "cell_type": "code",
   "execution_count": null,
   "id": "ddd0a9b0-f526-40bf-bb18-4a03b58233f9",
   "metadata": {},
   "outputs": [],
   "source": [
    "file_path = 'data/salary_data.csv'\n",
    "data = pd.read_csv(file_path)"
   ]
  },
  {
   "cell_type": "markdown",
   "id": "789485ba-9701-4a40-bc46-922ea047d12e",
   "metadata": {},
   "source": [
    "<h3> Analisi del dataframe </h3>"
   ]
  },
  {
   "cell_type": "code",
   "execution_count": null,
   "id": "cfa0e884-81ad-4a75-b315-4383a61c3957",
   "metadata": {},
   "outputs": [],
   "source": [
    "print(data.info())"
   ]
  },
  {
   "cell_type": "markdown",
   "id": "c4dd1d58-bd57-4f78-939e-ec587a997411",
   "metadata": {},
   "source": [
    "<h3> Considerazioni e quesiti </h3>\n",
    "Si nota che il dataset non contiene valori nulli.\n",
    "Da questa considerazione possiamo comiciare a cercare qualche informazione:\n",
    "<ol>\n",
    "<li><strong>Quali sono i 5 paesi con salario medio più alto?</li>\n",
    "<li><strong>Quali sono i 5 paesi con salario medio più basso?</li>\n",
    "<li><strong>Quali sono i 5 paesi lo stpendio mediano più alto?</li>\n",
    "<li><strong>Quali sono i 5 paesi con minore disparità tra stipendio minimo e massimo?</li>\n",
    "<li><strong>Quali sono i 5 paesi con maggiore disparità tra stipendio minimo e massimo?</li>\n",
    "</ol>"
   ]
  },
  {
   "cell_type": "code",
   "execution_count": null,
   "id": "5b768545-4fb9-4cbc-b412-093e997e4dee",
   "metadata": {},
   "outputs": [],
   "source": [
    "#Quesito 1 ---> stipendio medio maggiore\n",
    "highest_avg_salary = data[['country_name', 'average_salary']]\n",
    "highest_avg_salary = highest_avg_salary.sort_values(by='average_salary', ascending=False).head(5)\n",
    "print(\"\\nStipendi medi più alti:\")\n",
    "print(highest_avg_salary)\n",
    "\n",
    "#Quesito 2 ---> stipendio medio minore\n",
    "lowest_avg_salary = data[['country_name', 'average_salary']]\n",
    "lowest_avg_salary = lowest_avg_salary.sort_values(by='average_salary', ascending=True).head(5)\n",
    "print(\"\\nStipendi medi più bassi:\")\n",
    "print(lowest_avg_salary)\n",
    "\n",
    "#Quesito 3 ---> stipendio mediano maggiore\n",
    "highest_mdn_salary = data[['country_name', 'median_salary']]\n",
    "highest_mdn_salary = highest_mdn_salary.sort_values(by='median_salary', ascending=False).head(5)\n",
    "print(\"\\nStipendi mediani più alti:\")\n",
    "print(highest_mdn_salary)\n"
   ]
  },
  {
   "cell_type": "code",
   "execution_count": null,
   "id": "2772ffbe-252f-4ef2-aadc-95ba10beb913",
   "metadata": {},
   "outputs": [],
   "source": [
    "# Calcoliamo la disparità salariale come la differenza tra salario massimo e minimo per ciascun paese\n",
    "data['salary_disparity'] = data['highest_salary'] - data['lowest_salary']\n",
    "\n",
    "\n",
    "# Quesito 4 --->  minore disparità tra stipendio minimo e massimo\n",
    "lowest_disparity = data[['country_name', 'salary_disparity']]\n",
    "lowest_disparity = lowest_disparity.sort_values(by='salary_disparity', ascending=True).head(5)\n",
    "print(\"\\nDisparità minima:\")\n",
    "print(lowest_disparity)\n",
    "\n",
    "# Quesito 5 ---> maggiore disparità tra stipendio minimo e massimo\n",
    "highest_disparity = data[['country_name', 'salary_disparity']]\n",
    "highest_disparity = highest_disparity.sort_values(by='salary_disparity', ascending=False).head(5)\n",
    "print(\"\\nDisparità massima:\")\n",
    "print(highest_disparity)\n",
    "\n",
    "\n",
    "\n"
   ]
  },
  {
   "cell_type": "markdown",
   "id": "ca89da2f-1449-4732-a21a-51e67992e16a",
   "metadata": {},
   "source": [
    "<h3> Visualizzazione </h3>\n",
    "Viene stampato il grafico del salario medio che ci permette anche di verificare i punti 1 e 2."
   ]
  },
  {
   "cell_type": "code",
   "execution_count": null,
   "id": "37157bbd-3254-4139-8e34-e28572cbf808",
   "metadata": {},
   "outputs": [],
   "source": [
    "# N.B il sorting è solo per vedere meglio i risultati\n",
    "data_sorted = data.sort_values(by='average_salary', ascending=False)\n",
    "\n",
    "plt.figure(figsize=(40, 10))\n",
    "plt.bar(data_sorted['country_name'], data_sorted['average_salary'], color='red', edgecolor='black')\n",
    "\n",
    "\n",
    "plt.title('Salario Medio per Paese', fontsize=20)\n",
    "plt.xlabel('Paese', fontsize=12)\n",
    "plt.ylabel('Salario Medio (USD)', fontsize=12)\n",
    "\n",
    "\n",
    "plt.xticks(rotation=90, fontsize=8)\n",
    "\n",
    "plt.show()"
   ]
  }
 ],
 "metadata": {
  "kernelspec": {
   "display_name": "Python 3 (ipykernel)",
   "language": "python",
   "name": "python3"
  },
  "language_info": {
   "codemirror_mode": {
    "name": "ipython",
    "version": 3
   },
   "file_extension": ".py",
   "mimetype": "text/x-python",
   "name": "python",
   "nbconvert_exporter": "python",
   "pygments_lexer": "ipython3",
   "version": "3.11.9"
  }
 },
 "nbformat": 4,
 "nbformat_minor": 5
}
